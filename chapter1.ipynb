{
 "cells": [
  {
   "metadata": {},
   "cell_type": "markdown",
   "source": "# 1.1 言語モデルとは",
   "id": "93ea572f910a0d9e"
  },
  {
   "cell_type": "code",
   "id": "initial_id",
   "metadata": {
    "collapsed": true,
    "ExecuteTime": {
     "end_time": "2024-07-21T18:21:56.877055Z",
     "start_time": "2024-07-21T18:21:52.122219Z"
    }
   },
   "source": [
    "import torch\n",
    "from transformers import AutoModelForCausalLM, AutoTokenizer\n",
    "\n",
    "model = AutoModelForCausalLM.from_pretrained(\"cyberagent/open-calm-small\")\n",
    "tokenizer = AutoTokenizer.from_pretrained(\"cyberagent/open-calm-small\")"
   ],
   "outputs": [],
   "execution_count": 1
  },
  {
   "metadata": {
    "ExecuteTime": {
     "end_time": "2024-07-21T18:21:56.881290Z",
     "start_time": "2024-07-21T18:21:56.878059Z"
    }
   },
   "cell_type": "code",
   "source": "input = tokenizer(\"東京は日本の\", return_tensors=\"pt\")",
   "id": "6ab8d017c51ad569",
   "outputs": [],
   "execution_count": 2
  },
  {
   "metadata": {
    "ExecuteTime": {
     "end_time": "2024-07-21T18:21:56.885118Z",
     "start_time": "2024-07-21T18:21:56.881290Z"
    }
   },
   "cell_type": "code",
   "source": [
    "for i in input[\"input_ids\"][0]:\n",
    "    print(i, tokenizer.decode(i))"
   ],
   "id": "18f71d302927292",
   "outputs": [
    {
     "name": "stdout",
     "output_type": "stream",
     "text": [
      "tensor(1136) 東京\n",
      "tensor(33558) は日本の\n"
     ]
    }
   ],
   "execution_count": 3
  },
  {
   "metadata": {
    "ExecuteTime": {
     "end_time": "2024-07-21T18:21:57.667371Z",
     "start_time": "2024-07-21T18:21:56.885118Z"
    }
   },
   "cell_type": "code",
   "source": [
    "tokens = model.generate(**input, max_new_tokens=1, do_sample=False)\n",
    "tokens"
   ],
   "id": "f5d2c65003bd8eeb",
   "outputs": [
    {
     "name": "stderr",
     "output_type": "stream",
     "text": [
      "Setting `pad_token_id` to `eos_token_id`:0 for open-end generation.\n"
     ]
    },
    {
     "data": {
      "text/plain": [
       "tensor([[ 1136, 33558,  6338]])"
      ]
     },
     "execution_count": 4,
     "metadata": {},
     "output_type": "execute_result"
    }
   ],
   "execution_count": 4
  },
  {
   "metadata": {
    "ExecuteTime": {
     "end_time": "2024-07-21T18:21:57.673382Z",
     "start_time": "2024-07-21T18:21:57.669374Z"
    }
   },
   "cell_type": "code",
   "source": [
    "print(\"length: {}\".format(len(tokens[0])))\n",
    "for i in tokens[0]:\n",
    "    print(i, tokenizer.decode(i))"
   ],
   "id": "4d6590403fca6afd",
   "outputs": [
    {
     "name": "stdout",
     "output_type": "stream",
     "text": [
      "length: 3\n",
      "tensor(1136) 東京\n",
      "tensor(33558) は日本の\n",
      "tensor(6338) 首都\n"
     ]
    }
   ],
   "execution_count": 5
  },
  {
   "metadata": {
    "ExecuteTime": {
     "end_time": "2024-07-21T18:21:57.704080Z",
     "start_time": "2024-07-21T18:21:57.674385Z"
    }
   },
   "cell_type": "code",
   "source": [
    "out = model.generate(\n",
    "    **input,\n",
    "    max_new_tokens=1,\n",
    "    return_dict_in_generate=True,\n",
    "    output_scores=True,\n",
    ")\n",
    "out.keys()\n",
    "out[\"scores\"][0].shape"
   ],
   "id": "89f1a0268faf8dd0",
   "outputs": [
    {
     "name": "stderr",
     "output_type": "stream",
     "text": [
      "Setting `pad_token_id` to `eos_token_id`:0 for open-end generation.\n"
     ]
    },
    {
     "data": {
      "text/plain": [
       "torch.Size([1, 52096])"
      ]
     },
     "execution_count": 6,
     "metadata": {},
     "output_type": "execute_result"
    }
   ],
   "execution_count": 6
  },
  {
   "metadata": {
    "ExecuteTime": {
     "end_time": "2024-07-21T18:21:57.710333Z",
     "start_time": "2024-07-21T18:21:57.704080Z"
    }
   },
   "cell_type": "code",
   "source": [
    "top5 = torch.topk(out[\"scores\"][0][0], 5)\n",
    "top5"
   ],
   "id": "3a18b67b3eb61d9d",
   "outputs": [
    {
     "data": {
      "text/plain": [
       "torch.return_types.topk(\n",
       "values=tensor([18.5860, 16.7091, 16.6892, 16.5491, 16.4221]),\n",
       "indices=tensor([6338, 4303,  530, 2004,  308]))"
      ]
     },
     "execution_count": 7,
     "metadata": {},
     "output_type": "execute_result"
    }
   ],
   "execution_count": 7
  },
  {
   "metadata": {
    "ExecuteTime": {
     "end_time": "2024-07-21T18:21:57.715140Z",
     "start_time": "2024-07-21T18:21:57.711337Z"
    }
   },
   "cell_type": "code",
   "source": [
    "for i in range(5):\n",
    "    print(i+1, tokenizer.decode(top5.indices[i].item()), top5.values[i].item())"
   ],
   "id": "cbeb83cf4cee5cc",
   "outputs": [
    {
     "name": "stdout",
     "output_type": "stream",
     "text": [
      "1 首都 18.585966110229492\n",
      "2 未来 16.709089279174805\n",
      "3 最 16.689170837402344\n",
      "4 文化 16.549089431762695\n",
      "5 「 16.422061920166016\n"
     ]
    }
   ],
   "execution_count": 8
  },
  {
   "metadata": {},
   "cell_type": "markdown",
   "source": "# 1.2 言語モデルとチャットボット",
   "id": "ef281a5dcc84e027"
  },
  {
   "metadata": {
    "ExecuteTime": {
     "end_time": "2024-07-21T18:21:58.766185Z",
     "start_time": "2024-07-21T18:21:57.716143Z"
    }
   },
   "cell_type": "code",
   "source": [
    "input = tokenizer(\"日本の首都はどこですか?\", return_tensors=\"pt\")\n",
    "tokens = model.generate(**input, max_new_tokens=50, do_sample=False)\n",
    "tokens.shape"
   ],
   "id": "56fb273932e8f73d",
   "outputs": [
    {
     "name": "stderr",
     "output_type": "stream",
     "text": [
      "Setting `pad_token_id` to `eos_token_id`:0 for open-end generation.\n"
     ]
    },
    {
     "data": {
      "text/plain": [
       "torch.Size([1, 55])"
      ]
     },
     "execution_count": 9,
     "metadata": {},
     "output_type": "execute_result"
    }
   ],
   "execution_count": 9
  },
  {
   "metadata": {
    "ExecuteTime": {
     "end_time": "2024-07-21T18:21:58.771071Z",
     "start_time": "2024-07-21T18:21:58.767188Z"
    }
   },
   "cell_type": "code",
   "source": [
    "print(tokens[0])\n",
    "tokenizer.decode(tokens[0], skip_special_tokens=True)"
   ],
   "id": "4a3c98b58bf02d73",
   "outputs": [
    {
     "name": "stdout",
     "output_type": "stream",
     "text": [
      "tensor([ 3296,  6338, 20935,  3726,    32,   186,   308,  1136,   309,   495,\n",
      "         2200,   258,   245,  3960,   308,  1136,   309,  4387,   247,  2811,\n",
      "          245,  1136,   495,  2200,   258,   245,  1136,   495,  2200,   258,\n",
      "          245,  1136,   495,  2200,   258,   245,  1136,   495,  2200,   258,\n",
      "          245,  1136,   495,  2200,   258,   245,  1136,   495,  2200,   258,\n",
      "          245,  1136,   495,  2200,   258])\n"
     ]
    },
    {
     "data": {
      "text/plain": [
       "'日本の首都はどこですか?\\n「東京」という都市が、なぜ「東京」なのか。それは、東京という都市が、東京という都市が、東京という都市が、東京という都市が、東京という都市が、東京という都市が、東京という都市が'"
      ]
     },
     "execution_count": 10,
     "metadata": {},
     "output_type": "execute_result"
    }
   ],
   "execution_count": 10
  },
  {
   "metadata": {
    "ExecuteTime": {
     "end_time": "2024-07-21T18:21:59.185927Z",
     "start_time": "2024-07-21T18:21:58.772074Z"
    }
   },
   "cell_type": "code",
   "source": [
    "input = tokenizer(\"今日は天気がよいですね\\n\"+\"そうですね\\n\"+\"どこかへいきましょうか。\", return_tensors=\"pt\")\n",
    "tokens = model.generate(**input, max_new_tokens=20, do_sample=False)"
   ],
   "id": "a2bfe54ff393fa39",
   "outputs": [
    {
     "name": "stderr",
     "output_type": "stream",
     "text": [
      "Setting `pad_token_id` to `eos_token_id`:0 for open-end generation.\n"
     ]
    }
   ],
   "execution_count": 11
  },
  {
   "metadata": {
    "ExecuteTime": {
     "end_time": "2024-07-21T18:21:59.190289Z",
     "start_time": "2024-07-21T18:21:59.186930Z"
    }
   },
   "cell_type": "code",
   "source": "tokenizer.decode(tokens[0], skip_special_tokens=True)",
   "id": "c85bc98572bafbd3",
   "outputs": [
    {
     "data": {
      "text/plain": [
       "'今日は天気がよいですね\\nそうですね\\nどこかへいきましょうか。\\nさて、\\n今日は、\\n「  いい天気 」\\nです。\\nいい天気ですね'"
      ]
     },
     "execution_count": 12,
     "metadata": {},
     "output_type": "execute_result"
    }
   ],
   "execution_count": 12
  },
  {
   "metadata": {},
   "cell_type": "markdown",
   "source": [
    "# 1.3 日本語特化のLLM\n",
    "\n",
    "## Llama2 by Meta\n",
    "https://llama.meta.com/\n",
    "\n",
    "## OpenCALM by CyberAgent\n",
    "https://huggingface.co/cyberagent\n",
    "\n",
    "## japanese-large-lm by LINE\n",
    "https://huggingface.co/line-corporation/japanese-large-lm-3.6b\n",
    "\n",
    "## rinna GPT by rinna\n",
    "https://huggingface.co/rinna/japanese-gpt-neox-3.6b\n"
   ],
   "id": "a50cfe82bd895c79"
  },
  {
   "metadata": {},
   "cell_type": "markdown",
   "source": "# 1.4 LLMの利用",
   "id": "a312aa548dd29148"
  },
  {
   "metadata": {
    "ExecuteTime": {
     "end_time": "2024-07-21T18:22:01.897498Z",
     "start_time": "2024-07-21T18:21:59.190795Z"
    }
   },
   "cell_type": "code",
   "source": [
    "import torch\n",
    "from transformers import AutoModelForCausalLM, AutoTokenizer, pipeline\n",
    "model_id = \"cyberagent/open-calm-small\"\n",
    "model = AutoModelForCausalLM.from_pretrained(model_id)\n",
    "tokenizer = AutoTokenizer.from_pretrained(model_id)\n",
    "generator = pipeline(\"text-generation\", model=model, tokenizer=tokenizer)\n",
    "out = generator(\"東京は日本の\", max_new_tokens=50, do_sample=False)\n",
    "print(out[0])"
   ],
   "id": "155edab818fd9f75",
   "outputs": [
    {
     "name": "stdout",
     "output_type": "stream",
     "text": [
      "{'generated_text': '東京は日本の首都である。\\n\\n歴史\\n古代には、古代のローマ・カトリック教会は、ローマ・カトリック教会のローマ教会と、ローマ・カトリック教会のローマ教会と、ローマ・カトリック教会のローマ教会と、ローマ・カトリック教会のローマ教会と、ローマ'}\n"
     ]
    }
   ],
   "execution_count": 13
  },
  {
   "metadata": {
    "ExecuteTime": {
     "end_time": "2024-07-21T18:22:02.901832Z",
     "start_time": "2024-07-21T18:22:01.898501Z"
    }
   },
   "cell_type": "code",
   "source": [
    "input = tokenizer(\"東京は日本の\", return_tensors=\"pt\")\n",
    "tokens = model.generate(**input, max_new_tokens=50)\n",
    "output = tokenizer.decode(tokens[0], skip_special_tokens=True)\n",
    "print(output)"
   ],
   "id": "49a7b217803d73a7",
   "outputs": [
    {
     "name": "stdout",
     "output_type": "stream",
     "text": [
      "東京は日本の首都である。\n",
      "\n",
      "歴史\n",
      "古代には、古代のローマ・カトリック教会は、ローマ・カトリック教会のローマ教会と、ローマ・カトリック教会のローマ教会と、ローマ・カトリック教会のローマ教会と、ローマ・カトリック教会のローマ教会と、ローマ\n"
     ]
    }
   ],
   "execution_count": 14
  },
  {
   "metadata": {
    "ExecuteTime": {
     "end_time": "2024-07-21T18:22:02.906060Z",
     "start_time": "2024-07-21T18:22:02.902837Z"
    }
   },
   "cell_type": "code",
   "source": "print(tokenizer.encode(\"。\"))",
   "id": "125c12749936cb18",
   "outputs": [
    {
     "name": "stdout",
     "output_type": "stream",
     "text": [
      "[247]\n"
     ]
    }
   ],
   "execution_count": 15
  },
  {
   "metadata": {
    "ExecuteTime": {
     "end_time": "2024-07-21T18:22:03.146340Z",
     "start_time": "2024-07-21T18:22:02.907063Z"
    }
   },
   "cell_type": "code",
   "source": [
    "input = tokenizer(\"東京は日本の\", return_tensors=\"pt\")\n",
    "tokens = model.generate(**input, max_new_tokens=30,\n",
    "                        eos_token_id=tokenizer.encode(\"。\"),\n",
    "                        pad_token_id=tokenizer.pad_token_id,\n",
    "                        do_sample=True,\n",
    "                        num_return_sequences=5)\n",
    "for i in range(5):\n",
    "    output = tokenizer.decode(tokens[i], skip_special_tokens=True)\n",
    "    print(output)"
   ],
   "id": "b1d6b2db8b215202",
   "outputs": [
    {
     "name": "stdout",
     "output_type": "stream",
     "text": [
      "東京は日本の首都であり、東京は日本の首都です。\n",
      "東京は日本のトップクラスの大学です。\n",
      "東京は日本の「夢」です。\n",
      "東京は日本の「食」にかかわるすべての業界を応援していきます。\n",
      "東京は日本の首都である。\n"
     ]
    }
   ],
   "execution_count": 16
  }
 ],
 "metadata": {
  "kernelspec": {
   "display_name": "Python 3",
   "language": "python",
   "name": "python3"
  },
  "language_info": {
   "codemirror_mode": {
    "name": "ipython",
    "version": 2
   },
   "file_extension": ".py",
   "mimetype": "text/x-python",
   "name": "python",
   "nbconvert_exporter": "python",
   "pygments_lexer": "ipython2",
   "version": "2.7.6"
  }
 },
 "nbformat": 4,
 "nbformat_minor": 5
}
